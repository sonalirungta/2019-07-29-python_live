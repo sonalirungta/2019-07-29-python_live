{
  "nbformat": 4,
  "nbformat_minor": 0,
  "metadata": {
    "colab": {
      "name": "[Public] Intro to Data Science: CRISP-DM",
      "provenance": [],
      "collapsed_sections": [
        "XjeeBLMwROqM",
        "8BM5ciAqROsR",
        "2ojDNyk_Va3Q",
        "KJgzD7KHV8GA",
        "r3c5qVqTpBDp",
        "wE0FHgE8BqsF",
        "MCCpwRiNIg2b"
      ],
      "include_colab_link": true
    },
    "kernelspec": {
      "name": "python3",
      "display_name": "Python 3"
    },
    "language_info": {
      "name": "python"
    }
  },
  "cells": [
    {
      "cell_type": "markdown",
      "metadata": {
        "id": "view-in-github",
        "colab_type": "text"
      },
      "source": [
        "<a href=\"https://colab.research.google.com/github/sonalirungta/2019-07-29-python_live/blob/master/%5BPublic%5D_Intro_to_Data_Science_CRISP_DM.ipynb\" target=\"_parent\"><img src=\"https://colab.research.google.com/assets/colab-badge.svg\" alt=\"Open In Colab\"/></a>"
      ]
    },
    {
      "cell_type": "markdown",
      "source": [
        "# Wonderland Investments Real Estate Analysis"
      ],
      "metadata": {
        "id": "KqoZBP8KROoI"
      }
    },
    {
      "cell_type": "markdown",
      "source": [
        "#### [[Slides]](https://docs.google.com/presentation/d/1mYtYVW0xWQnq5SgCf3xX4CgxtznbNATTh8G9j84H7l8/edit?usp=sharing)"
      ],
      "metadata": {
        "id": "-c5QNhVXEUGk"
      }
    },
    {
      "cell_type": "markdown",
      "source": [
        "## Business Understanding\n"
      ],
      "metadata": {
        "id": "XjeeBLMwROqM"
      }
    },
    {
      "cell_type": "markdown",
      "source": [
        "\n",
        "Wonderland Investments is a residential real estate developer that is completely new to the Phoenix metro-area. They would like to enter this hot market but know little about building in the desert biome. They want to select the right materials, and get some basic guidelines on general features to enter the market competitively. "
      ],
      "metadata": {
        "id": "TRe2C3jgROt7"
      }
    },
    {
      "cell_type": "markdown",
      "source": [
        "## Data Understanding\n"
      ],
      "metadata": {
        "id": "8BM5ciAqROsR"
      }
    },
    {
      "cell_type": "markdown",
      "source": [
        "The data provided was gathered through the [Maricopa County Assessor's](https://mcassessor.maricopa.gov/) API using the [MCAAPI Python Library](https://pypi.org/project/mcaapi/). It was gathered in September, 2021, and was not randomly sampled.\n",
        "\n",
        "A copy of the data can be found [here](https://raw.githubusercontent.com/foxbatcs/mca_data/master/202109_mca_10k_residential.csv).\n",
        "\n",
        "The csv has 15 columns and 10,360 rows.\n",
        "\n",
        "It contains the following features:\n",
        "\n",
        " * lot_size_sf\n",
        " * city\n",
        " * deed_date\n",
        " * price_usd\n",
        " * sale_date\n",
        " * lat\n",
        " * lon\n",
        " * build_yr\n",
        " * build_size_sf\n",
        " * patio_ct\n",
        " * patio_type\n",
        " * wall_type\n",
        " * roof_type\n",
        " * bath_fixtures_ct\n",
        " * parking_type\n"
      ],
      "metadata": {
        "id": "i0SFa2ciROvX"
      }
    },
    {
      "cell_type": "markdown",
      "source": [
        "## Business Problem"
      ],
      "metadata": {
        "id": "2ojDNyk_Va3Q"
      }
    },
    {
      "cell_type": "markdown",
      "source": [
        "**Initial Questions**\n",
        " * What is the median lot and building square footage?\n",
        " * What is the median building-to-lot square footage ratio?\n",
        " * What are the most popular building materials?\n",
        " * What expected price point should these homes be sold for?\n",
        "\n",
        "**Additional Questions**\n",
        " * What is the relationship between `build_yr` vs `lot_size_sf` & `build_size_sf`?\n",
        " * What is the relationship between `build_yr` vs `wall_type` & `roof_type`?\n",
        " * Do these relationships affect our recommendation to the stakeholder?"
      ],
      "metadata": {
        "id": "q3WgwHNBVdog"
      }
    },
    {
      "cell_type": "markdown",
      "source": [
        "## Data Preparation"
      ],
      "metadata": {
        "id": "KJgzD7KHV8GA"
      }
    },
    {
      "cell_type": "code",
      "source": [
        "# Import Libraries\n",
        "import pandas as pd\n",
        "import matplotlib.pyplot as plt\n",
        "import seaborn as sns"
      ],
      "metadata": {
        "id": "oSllfhCgV60p"
      },
      "execution_count": null,
      "outputs": []
    },
    {
      "cell_type": "code",
      "source": [
        "df = pd.read_csv(\"https://raw.githubusercontent.com/foxbatcs/mca_data/master/202109_mca_10k_residential.csv\")"
      ],
      "metadata": {
        "id": "kOEb4NF6WILn"
      },
      "execution_count": null,
      "outputs": []
    },
    {
      "cell_type": "code",
      "source": [
        "df.head()"
      ],
      "metadata": {
        "colab": {
          "base_uri": "https://localhost:8080/",
          "height": 206
        },
        "id": "eOG-NdPmWKD_",
        "outputId": "abffc8ed-314d-4c23-e08b-00147a5e3ca9"
      },
      "execution_count": null,
      "outputs": [
        {
          "output_type": "execute_result",
          "data": {
            "text/plain": [
              "   lot_size_sf     city   deed_date  price_usd   sale_date        lat  \\\n",
              "0        25063  PHOENIX  04/24/2020   525000.0  04/01/2020  33.352338   \n",
              "1        20756  PHOENIX  11/14/2017   337500.0  11/01/2017  33.352386   \n",
              "2        20810  PHOENIX  04/03/2020   545000.0  03/01/2020  33.352385   \n",
              "3        20862  PHOENIX  07/16/2020   550000.0  05/01/2020  33.352384   \n",
              "4        22101  PHOENIX  04/10/2019        NaN         NaN  33.352383   \n",
              "\n",
              "          lon  build_yr  build_size_sf  patio_ct    patio_type     wall_type  \\\n",
              "0 -112.156826    2007.0         4917.0       2.0       Covered    Frame Wood   \n",
              "1 -112.157233    2007.0         2938.0       2.0       Covered    Frame Wood   \n",
              "2 -112.157580    2007.0         5588.0       2.0  Covered Slab    Frame Wood   \n",
              "3 -112.157927    2007.0         3849.0       4.0  Covered Slab  Frame Stucco   \n",
              "4 -112.158284    2007.0         5588.0       2.0  Covered Slab    Frame Wood   \n",
              "\n",
              "       roof_type  bath_fixtures_ct parking_type  \n",
              "0  Concrete Tile              13.0           GR  \n",
              "1  Concrete Tile              14.0           GR  \n",
              "2  Concrete Tile              14.0           GR  \n",
              "3  Concrete Tile              14.0           GR  \n",
              "4  Concrete Tile              14.0           GR  "
            ],
            "text/html": [
              "\n",
              "  <div id=\"df-999b8988-6f10-4b61-8388-996bdafbaa71\">\n",
              "    <div class=\"colab-df-container\">\n",
              "      <div>\n",
              "<style scoped>\n",
              "    .dataframe tbody tr th:only-of-type {\n",
              "        vertical-align: middle;\n",
              "    }\n",
              "\n",
              "    .dataframe tbody tr th {\n",
              "        vertical-align: top;\n",
              "    }\n",
              "\n",
              "    .dataframe thead th {\n",
              "        text-align: right;\n",
              "    }\n",
              "</style>\n",
              "<table border=\"1\" class=\"dataframe\">\n",
              "  <thead>\n",
              "    <tr style=\"text-align: right;\">\n",
              "      <th></th>\n",
              "      <th>lot_size_sf</th>\n",
              "      <th>city</th>\n",
              "      <th>deed_date</th>\n",
              "      <th>price_usd</th>\n",
              "      <th>sale_date</th>\n",
              "      <th>lat</th>\n",
              "      <th>lon</th>\n",
              "      <th>build_yr</th>\n",
              "      <th>build_size_sf</th>\n",
              "      <th>patio_ct</th>\n",
              "      <th>patio_type</th>\n",
              "      <th>wall_type</th>\n",
              "      <th>roof_type</th>\n",
              "      <th>bath_fixtures_ct</th>\n",
              "      <th>parking_type</th>\n",
              "    </tr>\n",
              "  </thead>\n",
              "  <tbody>\n",
              "    <tr>\n",
              "      <th>0</th>\n",
              "      <td>25063</td>\n",
              "      <td>PHOENIX</td>\n",
              "      <td>04/24/2020</td>\n",
              "      <td>525000.0</td>\n",
              "      <td>04/01/2020</td>\n",
              "      <td>33.352338</td>\n",
              "      <td>-112.156826</td>\n",
              "      <td>2007.0</td>\n",
              "      <td>4917.0</td>\n",
              "      <td>2.0</td>\n",
              "      <td>Covered</td>\n",
              "      <td>Frame Wood</td>\n",
              "      <td>Concrete Tile</td>\n",
              "      <td>13.0</td>\n",
              "      <td>GR</td>\n",
              "    </tr>\n",
              "    <tr>\n",
              "      <th>1</th>\n",
              "      <td>20756</td>\n",
              "      <td>PHOENIX</td>\n",
              "      <td>11/14/2017</td>\n",
              "      <td>337500.0</td>\n",
              "      <td>11/01/2017</td>\n",
              "      <td>33.352386</td>\n",
              "      <td>-112.157233</td>\n",
              "      <td>2007.0</td>\n",
              "      <td>2938.0</td>\n",
              "      <td>2.0</td>\n",
              "      <td>Covered</td>\n",
              "      <td>Frame Wood</td>\n",
              "      <td>Concrete Tile</td>\n",
              "      <td>14.0</td>\n",
              "      <td>GR</td>\n",
              "    </tr>\n",
              "    <tr>\n",
              "      <th>2</th>\n",
              "      <td>20810</td>\n",
              "      <td>PHOENIX</td>\n",
              "      <td>04/03/2020</td>\n",
              "      <td>545000.0</td>\n",
              "      <td>03/01/2020</td>\n",
              "      <td>33.352385</td>\n",
              "      <td>-112.157580</td>\n",
              "      <td>2007.0</td>\n",
              "      <td>5588.0</td>\n",
              "      <td>2.0</td>\n",
              "      <td>Covered Slab</td>\n",
              "      <td>Frame Wood</td>\n",
              "      <td>Concrete Tile</td>\n",
              "      <td>14.0</td>\n",
              "      <td>GR</td>\n",
              "    </tr>\n",
              "    <tr>\n",
              "      <th>3</th>\n",
              "      <td>20862</td>\n",
              "      <td>PHOENIX</td>\n",
              "      <td>07/16/2020</td>\n",
              "      <td>550000.0</td>\n",
              "      <td>05/01/2020</td>\n",
              "      <td>33.352384</td>\n",
              "      <td>-112.157927</td>\n",
              "      <td>2007.0</td>\n",
              "      <td>3849.0</td>\n",
              "      <td>4.0</td>\n",
              "      <td>Covered Slab</td>\n",
              "      <td>Frame Stucco</td>\n",
              "      <td>Concrete Tile</td>\n",
              "      <td>14.0</td>\n",
              "      <td>GR</td>\n",
              "    </tr>\n",
              "    <tr>\n",
              "      <th>4</th>\n",
              "      <td>22101</td>\n",
              "      <td>PHOENIX</td>\n",
              "      <td>04/10/2019</td>\n",
              "      <td>NaN</td>\n",
              "      <td>NaN</td>\n",
              "      <td>33.352383</td>\n",
              "      <td>-112.158284</td>\n",
              "      <td>2007.0</td>\n",
              "      <td>5588.0</td>\n",
              "      <td>2.0</td>\n",
              "      <td>Covered Slab</td>\n",
              "      <td>Frame Wood</td>\n",
              "      <td>Concrete Tile</td>\n",
              "      <td>14.0</td>\n",
              "      <td>GR</td>\n",
              "    </tr>\n",
              "  </tbody>\n",
              "</table>\n",
              "</div>\n",
              "      <button class=\"colab-df-convert\" onclick=\"convertToInteractive('df-999b8988-6f10-4b61-8388-996bdafbaa71')\"\n",
              "              title=\"Convert this dataframe to an interactive table.\"\n",
              "              style=\"display:none;\">\n",
              "        \n",
              "  <svg xmlns=\"http://www.w3.org/2000/svg\" height=\"24px\"viewBox=\"0 0 24 24\"\n",
              "       width=\"24px\">\n",
              "    <path d=\"M0 0h24v24H0V0z\" fill=\"none\"/>\n",
              "    <path d=\"M18.56 5.44l.94 2.06.94-2.06 2.06-.94-2.06-.94-.94-2.06-.94 2.06-2.06.94zm-11 1L8.5 8.5l.94-2.06 2.06-.94-2.06-.94L8.5 2.5l-.94 2.06-2.06.94zm10 10l.94 2.06.94-2.06 2.06-.94-2.06-.94-.94-2.06-.94 2.06-2.06.94z\"/><path d=\"M17.41 7.96l-1.37-1.37c-.4-.4-.92-.59-1.43-.59-.52 0-1.04.2-1.43.59L10.3 9.45l-7.72 7.72c-.78.78-.78 2.05 0 2.83L4 21.41c.39.39.9.59 1.41.59.51 0 1.02-.2 1.41-.59l7.78-7.78 2.81-2.81c.8-.78.8-2.07 0-2.86zM5.41 20L4 18.59l7.72-7.72 1.47 1.35L5.41 20z\"/>\n",
              "  </svg>\n",
              "      </button>\n",
              "      \n",
              "  <style>\n",
              "    .colab-df-container {\n",
              "      display:flex;\n",
              "      flex-wrap:wrap;\n",
              "      gap: 12px;\n",
              "    }\n",
              "\n",
              "    .colab-df-convert {\n",
              "      background-color: #E8F0FE;\n",
              "      border: none;\n",
              "      border-radius: 50%;\n",
              "      cursor: pointer;\n",
              "      display: none;\n",
              "      fill: #1967D2;\n",
              "      height: 32px;\n",
              "      padding: 0 0 0 0;\n",
              "      width: 32px;\n",
              "    }\n",
              "\n",
              "    .colab-df-convert:hover {\n",
              "      background-color: #E2EBFA;\n",
              "      box-shadow: 0px 1px 2px rgba(60, 64, 67, 0.3), 0px 1px 3px 1px rgba(60, 64, 67, 0.15);\n",
              "      fill: #174EA6;\n",
              "    }\n",
              "\n",
              "    [theme=dark] .colab-df-convert {\n",
              "      background-color: #3B4455;\n",
              "      fill: #D2E3FC;\n",
              "    }\n",
              "\n",
              "    [theme=dark] .colab-df-convert:hover {\n",
              "      background-color: #434B5C;\n",
              "      box-shadow: 0px 1px 3px 1px rgba(0, 0, 0, 0.15);\n",
              "      filter: drop-shadow(0px 1px 2px rgba(0, 0, 0, 0.3));\n",
              "      fill: #FFFFFF;\n",
              "    }\n",
              "  </style>\n",
              "\n",
              "      <script>\n",
              "        const buttonEl =\n",
              "          document.querySelector('#df-999b8988-6f10-4b61-8388-996bdafbaa71 button.colab-df-convert');\n",
              "        buttonEl.style.display =\n",
              "          google.colab.kernel.accessAllowed ? 'block' : 'none';\n",
              "\n",
              "        async function convertToInteractive(key) {\n",
              "          const element = document.querySelector('#df-999b8988-6f10-4b61-8388-996bdafbaa71');\n",
              "          const dataTable =\n",
              "            await google.colab.kernel.invokeFunction('convertToInteractive',\n",
              "                                                     [key], {});\n",
              "          if (!dataTable) return;\n",
              "\n",
              "          const docLinkHtml = 'Like what you see? Visit the ' +\n",
              "            '<a target=\"_blank\" href=https://colab.research.google.com/notebooks/data_table.ipynb>data table notebook</a>'\n",
              "            + ' to learn more about interactive tables.';\n",
              "          element.innerHTML = '';\n",
              "          dataTable['output_type'] = 'display_data';\n",
              "          await google.colab.output.renderOutput(dataTable, element);\n",
              "          const docLink = document.createElement('div');\n",
              "          docLink.innerHTML = docLinkHtml;\n",
              "          element.appendChild(docLink);\n",
              "        }\n",
              "      </script>\n",
              "    </div>\n",
              "  </div>\n",
              "  "
            ]
          },
          "metadata": {},
          "execution_count": 5
        }
      ]
    },
    {
      "cell_type": "code",
      "source": [
        "df.shape"
      ],
      "metadata": {
        "colab": {
          "base_uri": "https://localhost:8080/"
        },
        "id": "yoEBHXhO7nxS",
        "outputId": "1ccda77d-239b-48e3-a2b4-2cb27e1ecaa2"
      },
      "execution_count": null,
      "outputs": [
        {
          "output_type": "execute_result",
          "data": {
            "text/plain": [
              "(10390, 15)"
            ]
          },
          "metadata": {},
          "execution_count": 6
        }
      ]
    },
    {
      "cell_type": "markdown",
      "source": [
        "#### Null Values"
      ],
      "metadata": {
        "id": "tsnxwOWHAiro"
      }
    },
    {
      "cell_type": "code",
      "source": [
        "df.isna().mean()"
      ],
      "metadata": {
        "colab": {
          "base_uri": "https://localhost:8080/"
        },
        "id": "ZKizfU2_4ZAi",
        "outputId": "7b84e2e6-0386-40e0-e01f-52e84a82dff7"
      },
      "execution_count": null,
      "outputs": [
        {
          "output_type": "execute_result",
          "data": {
            "text/plain": [
              "lot_size_sf         0.000000\n",
              "city                0.000000\n",
              "deed_date           0.000481\n",
              "price_usd           0.408181\n",
              "sale_date           0.407603\n",
              "lat                 0.003176\n",
              "lon                 0.003176\n",
              "build_yr            0.000096\n",
              "build_size_sf       0.000096\n",
              "patio_ct            0.000096\n",
              "patio_type          0.000096\n",
              "wall_type           0.000096\n",
              "roof_type           0.000096\n",
              "bath_fixtures_ct    0.000192\n",
              "parking_type        0.060828\n",
              "dtype: float64"
            ]
          },
          "metadata": {},
          "execution_count": 7
        }
      ]
    },
    {
      "cell_type": "markdown",
      "source": [
        "If we want to use price as a target, we have to drop null values. This reduced the data significantly, but we still have about 5800 rows."
      ],
      "metadata": {
        "id": "d22KojtA668S"
      }
    },
    {
      "cell_type": "code",
      "source": [
        "df.dropna(inplace=True)"
      ],
      "metadata": {
        "id": "WFgeBOkR4HQp"
      },
      "execution_count": null,
      "outputs": []
    },
    {
      "cell_type": "code",
      "source": [
        "df.shape"
      ],
      "metadata": {
        "colab": {
          "base_uri": "https://localhost:8080/"
        },
        "id": "GuNieMZDEkSR",
        "outputId": "16afb20e-355e-438b-94f8-8140ab7fa942"
      },
      "execution_count": null,
      "outputs": [
        {
          "output_type": "execute_result",
          "data": {
            "text/plain": [
              "(5847, 15)"
            ]
          },
          "metadata": {},
          "execution_count": 9
        }
      ]
    },
    {
      "cell_type": "markdown",
      "source": [
        "### Exploratory Data Analysis"
      ],
      "metadata": {
        "id": "_Y9qXJsobquU"
      }
    },
    {
      "cell_type": "markdown",
      "source": [
        "#### Descriptive Stats"
      ],
      "metadata": {
        "id": "wuMXwZr8iQBW"
      }
    },
    {
      "cell_type": "code",
      "source": [
        "df.describe()"
      ],
      "metadata": {
        "colab": {
          "base_uri": "https://localhost:8080/",
          "height": 300
        },
        "id": "6LqFA3chWKx_",
        "outputId": "d3af7ef1-9851-4a8f-bc2d-bfc26ebbf1e4"
      },
      "execution_count": null,
      "outputs": [
        {
          "output_type": "execute_result",
          "data": {
            "text/plain": [
              "         lot_size_sf     price_usd          lat          lon     build_yr  \\\n",
              "count    5847.000000  5.847000e+03  5847.000000  5847.000000  5847.000000   \n",
              "mean     9898.730289  3.958803e+05    33.504270  -112.083762  1996.074739   \n",
              "std     16198.191054  5.883515e+05     0.132147     0.227354    16.533032   \n",
              "min       692.000000  1.600000e+04    33.206553  -112.759270  1900.000000   \n",
              "25%      5403.000000  1.853795e+05    33.410970  -112.268864  1986.000000   \n",
              "50%      7009.000000  2.690000e+05    33.477879  -112.110219  2000.000000   \n",
              "75%      9125.000000  3.850000e+05    33.597460  -111.902087  2006.000000   \n",
              "max    775699.000000  1.800000e+07    33.974363  -111.584265  2021.000000   \n",
              "\n",
              "       build_size_sf     patio_ct  bath_fixtures_ct  \n",
              "count    5847.000000  5847.000000       5847.000000  \n",
              "mean     2160.190354     1.085172          8.644262  \n",
              "std      1069.021500     0.800443          3.140677  \n",
              "min       550.000000     0.000000          3.000000  \n",
              "25%      1542.500000     1.000000          6.000000  \n",
              "50%      1922.000000     1.000000          8.000000  \n",
              "75%      2436.000000     1.000000         10.000000  \n",
              "max     13930.000000    12.000000         39.000000  "
            ],
            "text/html": [
              "\n",
              "  <div id=\"df-a8695719-f4cc-4a4c-b902-cd1f7583bd96\">\n",
              "    <div class=\"colab-df-container\">\n",
              "      <div>\n",
              "<style scoped>\n",
              "    .dataframe tbody tr th:only-of-type {\n",
              "        vertical-align: middle;\n",
              "    }\n",
              "\n",
              "    .dataframe tbody tr th {\n",
              "        vertical-align: top;\n",
              "    }\n",
              "\n",
              "    .dataframe thead th {\n",
              "        text-align: right;\n",
              "    }\n",
              "</style>\n",
              "<table border=\"1\" class=\"dataframe\">\n",
              "  <thead>\n",
              "    <tr style=\"text-align: right;\">\n",
              "      <th></th>\n",
              "      <th>lot_size_sf</th>\n",
              "      <th>price_usd</th>\n",
              "      <th>lat</th>\n",
              "      <th>lon</th>\n",
              "      <th>build_yr</th>\n",
              "      <th>build_size_sf</th>\n",
              "      <th>patio_ct</th>\n",
              "      <th>bath_fixtures_ct</th>\n",
              "    </tr>\n",
              "  </thead>\n",
              "  <tbody>\n",
              "    <tr>\n",
              "      <th>count</th>\n",
              "      <td>5847.000000</td>\n",
              "      <td>5.847000e+03</td>\n",
              "      <td>5847.000000</td>\n",
              "      <td>5847.000000</td>\n",
              "      <td>5847.000000</td>\n",
              "      <td>5847.000000</td>\n",
              "      <td>5847.000000</td>\n",
              "      <td>5847.000000</td>\n",
              "    </tr>\n",
              "    <tr>\n",
              "      <th>mean</th>\n",
              "      <td>9898.730289</td>\n",
              "      <td>3.958803e+05</td>\n",
              "      <td>33.504270</td>\n",
              "      <td>-112.083762</td>\n",
              "      <td>1996.074739</td>\n",
              "      <td>2160.190354</td>\n",
              "      <td>1.085172</td>\n",
              "      <td>8.644262</td>\n",
              "    </tr>\n",
              "    <tr>\n",
              "      <th>std</th>\n",
              "      <td>16198.191054</td>\n",
              "      <td>5.883515e+05</td>\n",
              "      <td>0.132147</td>\n",
              "      <td>0.227354</td>\n",
              "      <td>16.533032</td>\n",
              "      <td>1069.021500</td>\n",
              "      <td>0.800443</td>\n",
              "      <td>3.140677</td>\n",
              "    </tr>\n",
              "    <tr>\n",
              "      <th>min</th>\n",
              "      <td>692.000000</td>\n",
              "      <td>1.600000e+04</td>\n",
              "      <td>33.206553</td>\n",
              "      <td>-112.759270</td>\n",
              "      <td>1900.000000</td>\n",
              "      <td>550.000000</td>\n",
              "      <td>0.000000</td>\n",
              "      <td>3.000000</td>\n",
              "    </tr>\n",
              "    <tr>\n",
              "      <th>25%</th>\n",
              "      <td>5403.000000</td>\n",
              "      <td>1.853795e+05</td>\n",
              "      <td>33.410970</td>\n",
              "      <td>-112.268864</td>\n",
              "      <td>1986.000000</td>\n",
              "      <td>1542.500000</td>\n",
              "      <td>1.000000</td>\n",
              "      <td>6.000000</td>\n",
              "    </tr>\n",
              "    <tr>\n",
              "      <th>50%</th>\n",
              "      <td>7009.000000</td>\n",
              "      <td>2.690000e+05</td>\n",
              "      <td>33.477879</td>\n",
              "      <td>-112.110219</td>\n",
              "      <td>2000.000000</td>\n",
              "      <td>1922.000000</td>\n",
              "      <td>1.000000</td>\n",
              "      <td>8.000000</td>\n",
              "    </tr>\n",
              "    <tr>\n",
              "      <th>75%</th>\n",
              "      <td>9125.000000</td>\n",
              "      <td>3.850000e+05</td>\n",
              "      <td>33.597460</td>\n",
              "      <td>-111.902087</td>\n",
              "      <td>2006.000000</td>\n",
              "      <td>2436.000000</td>\n",
              "      <td>1.000000</td>\n",
              "      <td>10.000000</td>\n",
              "    </tr>\n",
              "    <tr>\n",
              "      <th>max</th>\n",
              "      <td>775699.000000</td>\n",
              "      <td>1.800000e+07</td>\n",
              "      <td>33.974363</td>\n",
              "      <td>-111.584265</td>\n",
              "      <td>2021.000000</td>\n",
              "      <td>13930.000000</td>\n",
              "      <td>12.000000</td>\n",
              "      <td>39.000000</td>\n",
              "    </tr>\n",
              "  </tbody>\n",
              "</table>\n",
              "</div>\n",
              "      <button class=\"colab-df-convert\" onclick=\"convertToInteractive('df-a8695719-f4cc-4a4c-b902-cd1f7583bd96')\"\n",
              "              title=\"Convert this dataframe to an interactive table.\"\n",
              "              style=\"display:none;\">\n",
              "        \n",
              "  <svg xmlns=\"http://www.w3.org/2000/svg\" height=\"24px\"viewBox=\"0 0 24 24\"\n",
              "       width=\"24px\">\n",
              "    <path d=\"M0 0h24v24H0V0z\" fill=\"none\"/>\n",
              "    <path d=\"M18.56 5.44l.94 2.06.94-2.06 2.06-.94-2.06-.94-.94-2.06-.94 2.06-2.06.94zm-11 1L8.5 8.5l.94-2.06 2.06-.94-2.06-.94L8.5 2.5l-.94 2.06-2.06.94zm10 10l.94 2.06.94-2.06 2.06-.94-2.06-.94-.94-2.06-.94 2.06-2.06.94z\"/><path d=\"M17.41 7.96l-1.37-1.37c-.4-.4-.92-.59-1.43-.59-.52 0-1.04.2-1.43.59L10.3 9.45l-7.72 7.72c-.78.78-.78 2.05 0 2.83L4 21.41c.39.39.9.59 1.41.59.51 0 1.02-.2 1.41-.59l7.78-7.78 2.81-2.81c.8-.78.8-2.07 0-2.86zM5.41 20L4 18.59l7.72-7.72 1.47 1.35L5.41 20z\"/>\n",
              "  </svg>\n",
              "      </button>\n",
              "      \n",
              "  <style>\n",
              "    .colab-df-container {\n",
              "      display:flex;\n",
              "      flex-wrap:wrap;\n",
              "      gap: 12px;\n",
              "    }\n",
              "\n",
              "    .colab-df-convert {\n",
              "      background-color: #E8F0FE;\n",
              "      border: none;\n",
              "      border-radius: 50%;\n",
              "      cursor: pointer;\n",
              "      display: none;\n",
              "      fill: #1967D2;\n",
              "      height: 32px;\n",
              "      padding: 0 0 0 0;\n",
              "      width: 32px;\n",
              "    }\n",
              "\n",
              "    .colab-df-convert:hover {\n",
              "      background-color: #E2EBFA;\n",
              "      box-shadow: 0px 1px 2px rgba(60, 64, 67, 0.3), 0px 1px 3px 1px rgba(60, 64, 67, 0.15);\n",
              "      fill: #174EA6;\n",
              "    }\n",
              "\n",
              "    [theme=dark] .colab-df-convert {\n",
              "      background-color: #3B4455;\n",
              "      fill: #D2E3FC;\n",
              "    }\n",
              "\n",
              "    [theme=dark] .colab-df-convert:hover {\n",
              "      background-color: #434B5C;\n",
              "      box-shadow: 0px 1px 3px 1px rgba(0, 0, 0, 0.15);\n",
              "      filter: drop-shadow(0px 1px 2px rgba(0, 0, 0, 0.3));\n",
              "      fill: #FFFFFF;\n",
              "    }\n",
              "  </style>\n",
              "\n",
              "      <script>\n",
              "        const buttonEl =\n",
              "          document.querySelector('#df-a8695719-f4cc-4a4c-b902-cd1f7583bd96 button.colab-df-convert');\n",
              "        buttonEl.style.display =\n",
              "          google.colab.kernel.accessAllowed ? 'block' : 'none';\n",
              "\n",
              "        async function convertToInteractive(key) {\n",
              "          const element = document.querySelector('#df-a8695719-f4cc-4a4c-b902-cd1f7583bd96');\n",
              "          const dataTable =\n",
              "            await google.colab.kernel.invokeFunction('convertToInteractive',\n",
              "                                                     [key], {});\n",
              "          if (!dataTable) return;\n",
              "\n",
              "          const docLinkHtml = 'Like what you see? Visit the ' +\n",
              "            '<a target=\"_blank\" href=https://colab.research.google.com/notebooks/data_table.ipynb>data table notebook</a>'\n",
              "            + ' to learn more about interactive tables.';\n",
              "          element.innerHTML = '';\n",
              "          dataTable['output_type'] = 'display_data';\n",
              "          await google.colab.output.renderOutput(dataTable, element);\n",
              "          const docLink = document.createElement('div');\n",
              "          docLink.innerHTML = docLinkHtml;\n",
              "          element.appendChild(docLink);\n",
              "        }\n",
              "      </script>\n",
              "    </div>\n",
              "  </div>\n",
              "  "
            ]
          },
          "metadata": {},
          "execution_count": 10
        }
      ]
    },
    {
      "cell_type": "markdown",
      "source": [
        "Query: \"scientific notation in pd.describe()\"\n",
        "\n",
        "Source: https://stackoverflow.com/questions/17737300/suppressing-scientific-notation-in-pandas\n",
        "\n",
        "Fix Scientific Notation: \n",
        "\n",
        "`pd.options.display.float_format = '{:20,.2f}'.format`"
      ],
      "metadata": {
        "id": "tKcvmnP3XI-V"
      }
    },
    {
      "cell_type": "code",
      "source": [
        "pd.options.display.float_format = '{:20,.2f}'.format"
      ],
      "metadata": {
        "id": "wOCe3XX4TL2h"
      },
      "execution_count": null,
      "outputs": []
    },
    {
      "cell_type": "code",
      "source": [
        "df.describe()"
      ],
      "metadata": {
        "colab": {
          "base_uri": "https://localhost:8080/",
          "height": 300
        },
        "id": "kjTfayhCWiHB",
        "outputId": "02a7434c-c4c0-4ea2-c4a0-6ce3fa3372cb"
      },
      "execution_count": null,
      "outputs": [
        {
          "output_type": "execute_result",
          "data": {
            "text/plain": [
              "               lot_size_sf            price_usd                  lat  \\\n",
              "count             5,847.00             5,847.00             5,847.00   \n",
              "mean              9,898.73           395,880.29                33.50   \n",
              "std              16,198.19           588,351.55                 0.13   \n",
              "min                 692.00            16,000.00                33.21   \n",
              "25%               5,403.00           185,379.50                33.41   \n",
              "50%               7,009.00           269,000.00                33.48   \n",
              "75%               9,125.00           385,000.00                33.60   \n",
              "max             775,699.00        18,000,000.00                33.97   \n",
              "\n",
              "                       lon             build_yr        build_size_sf  \\\n",
              "count             5,847.00             5,847.00             5,847.00   \n",
              "mean               -112.08             1,996.07             2,160.19   \n",
              "std                   0.23                16.53             1,069.02   \n",
              "min                -112.76             1,900.00               550.00   \n",
              "25%                -112.27             1,986.00             1,542.50   \n",
              "50%                -112.11             2,000.00             1,922.00   \n",
              "75%                -111.90             2,006.00             2,436.00   \n",
              "max                -111.58             2,021.00            13,930.00   \n",
              "\n",
              "                  patio_ct     bath_fixtures_ct  \n",
              "count             5,847.00             5,847.00  \n",
              "mean                  1.09                 8.64  \n",
              "std                   0.80                 3.14  \n",
              "min                   0.00                 3.00  \n",
              "25%                   1.00                 6.00  \n",
              "50%                   1.00                 8.00  \n",
              "75%                   1.00                10.00  \n",
              "max                  12.00                39.00  "
            ],
            "text/html": [
              "\n",
              "  <div id=\"df-39e0b4c7-bf0e-4b8f-b38f-f1b1e6e14346\">\n",
              "    <div class=\"colab-df-container\">\n",
              "      <div>\n",
              "<style scoped>\n",
              "    .dataframe tbody tr th:only-of-type {\n",
              "        vertical-align: middle;\n",
              "    }\n",
              "\n",
              "    .dataframe tbody tr th {\n",
              "        vertical-align: top;\n",
              "    }\n",
              "\n",
              "    .dataframe thead th {\n",
              "        text-align: right;\n",
              "    }\n",
              "</style>\n",
              "<table border=\"1\" class=\"dataframe\">\n",
              "  <thead>\n",
              "    <tr style=\"text-align: right;\">\n",
              "      <th></th>\n",
              "      <th>lot_size_sf</th>\n",
              "      <th>price_usd</th>\n",
              "      <th>lat</th>\n",
              "      <th>lon</th>\n",
              "      <th>build_yr</th>\n",
              "      <th>build_size_sf</th>\n",
              "      <th>patio_ct</th>\n",
              "      <th>bath_fixtures_ct</th>\n",
              "    </tr>\n",
              "  </thead>\n",
              "  <tbody>\n",
              "    <tr>\n",
              "      <th>count</th>\n",
              "      <td>5,847.00</td>\n",
              "      <td>5,847.00</td>\n",
              "      <td>5,847.00</td>\n",
              "      <td>5,847.00</td>\n",
              "      <td>5,847.00</td>\n",
              "      <td>5,847.00</td>\n",
              "      <td>5,847.00</td>\n",
              "      <td>5,847.00</td>\n",
              "    </tr>\n",
              "    <tr>\n",
              "      <th>mean</th>\n",
              "      <td>9,898.73</td>\n",
              "      <td>395,880.29</td>\n",
              "      <td>33.50</td>\n",
              "      <td>-112.08</td>\n",
              "      <td>1,996.07</td>\n",
              "      <td>2,160.19</td>\n",
              "      <td>1.09</td>\n",
              "      <td>8.64</td>\n",
              "    </tr>\n",
              "    <tr>\n",
              "      <th>std</th>\n",
              "      <td>16,198.19</td>\n",
              "      <td>588,351.55</td>\n",
              "      <td>0.13</td>\n",
              "      <td>0.23</td>\n",
              "      <td>16.53</td>\n",
              "      <td>1,069.02</td>\n",
              "      <td>0.80</td>\n",
              "      <td>3.14</td>\n",
              "    </tr>\n",
              "    <tr>\n",
              "      <th>min</th>\n",
              "      <td>692.00</td>\n",
              "      <td>16,000.00</td>\n",
              "      <td>33.21</td>\n",
              "      <td>-112.76</td>\n",
              "      <td>1,900.00</td>\n",
              "      <td>550.00</td>\n",
              "      <td>0.00</td>\n",
              "      <td>3.00</td>\n",
              "    </tr>\n",
              "    <tr>\n",
              "      <th>25%</th>\n",
              "      <td>5,403.00</td>\n",
              "      <td>185,379.50</td>\n",
              "      <td>33.41</td>\n",
              "      <td>-112.27</td>\n",
              "      <td>1,986.00</td>\n",
              "      <td>1,542.50</td>\n",
              "      <td>1.00</td>\n",
              "      <td>6.00</td>\n",
              "    </tr>\n",
              "    <tr>\n",
              "      <th>50%</th>\n",
              "      <td>7,009.00</td>\n",
              "      <td>269,000.00</td>\n",
              "      <td>33.48</td>\n",
              "      <td>-112.11</td>\n",
              "      <td>2,000.00</td>\n",
              "      <td>1,922.00</td>\n",
              "      <td>1.00</td>\n",
              "      <td>8.00</td>\n",
              "    </tr>\n",
              "    <tr>\n",
              "      <th>75%</th>\n",
              "      <td>9,125.00</td>\n",
              "      <td>385,000.00</td>\n",
              "      <td>33.60</td>\n",
              "      <td>-111.90</td>\n",
              "      <td>2,006.00</td>\n",
              "      <td>2,436.00</td>\n",
              "      <td>1.00</td>\n",
              "      <td>10.00</td>\n",
              "    </tr>\n",
              "    <tr>\n",
              "      <th>max</th>\n",
              "      <td>775,699.00</td>\n",
              "      <td>18,000,000.00</td>\n",
              "      <td>33.97</td>\n",
              "      <td>-111.58</td>\n",
              "      <td>2,021.00</td>\n",
              "      <td>13,930.00</td>\n",
              "      <td>12.00</td>\n",
              "      <td>39.00</td>\n",
              "    </tr>\n",
              "  </tbody>\n",
              "</table>\n",
              "</div>\n",
              "      <button class=\"colab-df-convert\" onclick=\"convertToInteractive('df-39e0b4c7-bf0e-4b8f-b38f-f1b1e6e14346')\"\n",
              "              title=\"Convert this dataframe to an interactive table.\"\n",
              "              style=\"display:none;\">\n",
              "        \n",
              "  <svg xmlns=\"http://www.w3.org/2000/svg\" height=\"24px\"viewBox=\"0 0 24 24\"\n",
              "       width=\"24px\">\n",
              "    <path d=\"M0 0h24v24H0V0z\" fill=\"none\"/>\n",
              "    <path d=\"M18.56 5.44l.94 2.06.94-2.06 2.06-.94-2.06-.94-.94-2.06-.94 2.06-2.06.94zm-11 1L8.5 8.5l.94-2.06 2.06-.94-2.06-.94L8.5 2.5l-.94 2.06-2.06.94zm10 10l.94 2.06.94-2.06 2.06-.94-2.06-.94-.94-2.06-.94 2.06-2.06.94z\"/><path d=\"M17.41 7.96l-1.37-1.37c-.4-.4-.92-.59-1.43-.59-.52 0-1.04.2-1.43.59L10.3 9.45l-7.72 7.72c-.78.78-.78 2.05 0 2.83L4 21.41c.39.39.9.59 1.41.59.51 0 1.02-.2 1.41-.59l7.78-7.78 2.81-2.81c.8-.78.8-2.07 0-2.86zM5.41 20L4 18.59l7.72-7.72 1.47 1.35L5.41 20z\"/>\n",
              "  </svg>\n",
              "      </button>\n",
              "      \n",
              "  <style>\n",
              "    .colab-df-container {\n",
              "      display:flex;\n",
              "      flex-wrap:wrap;\n",
              "      gap: 12px;\n",
              "    }\n",
              "\n",
              "    .colab-df-convert {\n",
              "      background-color: #E8F0FE;\n",
              "      border: none;\n",
              "      border-radius: 50%;\n",
              "      cursor: pointer;\n",
              "      display: none;\n",
              "      fill: #1967D2;\n",
              "      height: 32px;\n",
              "      padding: 0 0 0 0;\n",
              "      width: 32px;\n",
              "    }\n",
              "\n",
              "    .colab-df-convert:hover {\n",
              "      background-color: #E2EBFA;\n",
              "      box-shadow: 0px 1px 2px rgba(60, 64, 67, 0.3), 0px 1px 3px 1px rgba(60, 64, 67, 0.15);\n",
              "      fill: #174EA6;\n",
              "    }\n",
              "\n",
              "    [theme=dark] .colab-df-convert {\n",
              "      background-color: #3B4455;\n",
              "      fill: #D2E3FC;\n",
              "    }\n",
              "\n",
              "    [theme=dark] .colab-df-convert:hover {\n",
              "      background-color: #434B5C;\n",
              "      box-shadow: 0px 1px 3px 1px rgba(0, 0, 0, 0.15);\n",
              "      filter: drop-shadow(0px 1px 2px rgba(0, 0, 0, 0.3));\n",
              "      fill: #FFFFFF;\n",
              "    }\n",
              "  </style>\n",
              "\n",
              "      <script>\n",
              "        const buttonEl =\n",
              "          document.querySelector('#df-39e0b4c7-bf0e-4b8f-b38f-f1b1e6e14346 button.colab-df-convert');\n",
              "        buttonEl.style.display =\n",
              "          google.colab.kernel.accessAllowed ? 'block' : 'none';\n",
              "\n",
              "        async function convertToInteractive(key) {\n",
              "          const element = document.querySelector('#df-39e0b4c7-bf0e-4b8f-b38f-f1b1e6e14346');\n",
              "          const dataTable =\n",
              "            await google.colab.kernel.invokeFunction('convertToInteractive',\n",
              "                                                     [key], {});\n",
              "          if (!dataTable) return;\n",
              "\n",
              "          const docLinkHtml = 'Like what you see? Visit the ' +\n",
              "            '<a target=\"_blank\" href=https://colab.research.google.com/notebooks/data_table.ipynb>data table notebook</a>'\n",
              "            + ' to learn more about interactive tables.';\n",
              "          element.innerHTML = '';\n",
              "          dataTable['output_type'] = 'display_data';\n",
              "          await google.colab.output.renderOutput(dataTable, element);\n",
              "          const docLink = document.createElement('div');\n",
              "          docLink.innerHTML = docLinkHtml;\n",
              "          element.appendChild(docLink);\n",
              "        }\n",
              "      </script>\n",
              "    </div>\n",
              "  </div>\n",
              "  "
            ]
          },
          "metadata": {},
          "execution_count": 12
        }
      ]
    },
    {
      "cell_type": "markdown",
      "source": [
        "#### What is the median lot and building square footage for the data?"
      ],
      "metadata": {
        "id": "yzMgAsc-YZiC"
      }
    },
    {
      "cell_type": "code",
      "source": [
        "df['lot_size_sf'].median()"
      ],
      "metadata": {
        "colab": {
          "base_uri": "https://localhost:8080/"
        },
        "id": "hrgEqvXQXijW",
        "outputId": "1ca18179-8f52-4982-c305-4da46e9901c7"
      },
      "execution_count": null,
      "outputs": [
        {
          "output_type": "execute_result",
          "data": {
            "text/plain": [
              "7009.0"
            ]
          },
          "metadata": {},
          "execution_count": 13
        }
      ]
    },
    {
      "cell_type": "code",
      "source": [
        "df.build_size_sf.median()"
      ],
      "metadata": {
        "colab": {
          "base_uri": "https://localhost:8080/"
        },
        "id": "sL00nPKfYf3a",
        "outputId": "6b4c770c-cb86-47a4-c766-92ee380b8b24"
      },
      "execution_count": null,
      "outputs": [
        {
          "output_type": "execute_result",
          "data": {
            "text/plain": [
              "1922.0"
            ]
          },
          "metadata": {},
          "execution_count": 14
        }
      ]
    },
    {
      "cell_type": "markdown",
      "source": [
        "#### What is the median building-to-lot square footage ratio for all the data?"
      ],
      "metadata": {
        "id": "C5Q5QFqjYsgE"
      }
    },
    {
      "cell_type": "code",
      "source": [
        "df.build_size_sf.median() / df.lot_size_sf.median()"
      ],
      "metadata": {
        "colab": {
          "base_uri": "https://localhost:8080/"
        },
        "id": "zjagnwRRYo67",
        "outputId": "2bc8993c-61dd-4ffa-9b60-e0cc9f33dd79"
      },
      "execution_count": null,
      "outputs": [
        {
          "output_type": "execute_result",
          "data": {
            "text/plain": [
              "0.27421886146383223"
            ]
          },
          "metadata": {},
          "execution_count": 15
        }
      ]
    },
    {
      "cell_type": "markdown",
      "source": [
        "#### New Question: What is the relationship between `build_yr` vs `lot_size_sf` and `build_size_sf`?"
      ],
      "metadata": {
        "id": "38qRvZXeY5YP"
      }
    },
    {
      "cell_type": "markdown",
      "source": [
        "This graph shows the data grouped by `build_yr`, with the median `build_size_sf` for each year represented."
      ],
      "metadata": {
        "id": "5h5_kedek3HK"
      }
    },
    {
      "cell_type": "code",
      "source": [
        "df.groupby('build_yr')['build_size_sf'].median().plot(kind='line')\n",
        "plt.title(\"Median Build Size (sqft) by Build Year\")\n",
        "plt.xlabel(\"Build Year\")\n",
        "plt.ylabel(\"Build Size (sqft)\")"
      ],
      "metadata": {
        "colab": {
          "base_uri": "https://localhost:8080/",
          "height": 313
        },
        "id": "iA32ihBCETRr",
        "outputId": "63416c0e-553c-4c7a-8d1a-71780a44b45e"
      },
      "execution_count": null,
      "outputs": [
        {
          "output_type": "execute_result",
          "data": {
            "text/plain": [
              "Text(0, 0.5, 'Build Size (sqft)')"
            ]
          },
          "metadata": {},
          "execution_count": 16
        },
        {
          "output_type": "display_data",
          "data": {
            "text/plain": [
              "<Figure size 432x288 with 1 Axes>"
            ],
            "image/png": "[encoded data removed]"
          },
          "metadata": {
            "needs_background": "light"
          }
        }
      ]
    },
    {
      "cell_type": "markdown",
      "source": [
        "This graph shows the data grouped by `build_yr`, with the median `lot_size_sf` for each year represented."
      ],
      "metadata": {
        "id": "j8vEIPxnlIDO"
      }
    },
    {
      "cell_type": "code",
      "source": [
        "df.groupby('build_yr')['lot_size_sf'].median().plot(kind='line')\n",
        "plt.title(\"Median Lot Size (sqft) by Build Year\")\n",
        "plt.xlabel(\"Build Year\")\n",
        "plt.ylabel(\"Lot Size (sqft)\")"
      ],
      "metadata": {
        "colab": {
          "base_uri": "https://localhost:8080/",
          "height": 313
        },
        "id": "gn4f9GD-TcOG",
        "outputId": "6fb3f628-e22d-4b11-b7a6-a03f153ca10d"
      },
      "execution_count": null,
      "outputs": [
        {
          "output_type": "execute_result",
          "data": {
            "text/plain": [
              "Text(0, 0.5, 'Lot Size (sqft)')"
            ]
          },
          "metadata": {},
          "execution_count": 17
        },
        {
          "output_type": "display_data",
          "data": {
            "text/plain": [
              "<Figure size 432x288 with 1 Axes>"
            ],
            "image/png": "[encoded data removed]"
          },
          "metadata": {
            "needs_background": "light"
          }
        }
      ]
    },
    {
      "cell_type": "markdown",
      "source": [
        "Since data for all years is very noisy, we will cap our data back 20 years and look at more modern homes only. This also excludes the giant peak in the data we see. This could be a result of events during those decades, or it could be an artifact from the data gathering methodology. The data is also not a random sample, so we will assume it is an artifact and decide to exclude it for reliability reasons as well. This still leaves us with about 2400 samples."
      ],
      "metadata": {
        "id": "Rgw1HBqLcLFa"
      }
    },
    {
      "cell_type": "code",
      "source": [
        "# the last 20 years of median build_size_sf grouped by build_yr\n",
        "df.groupby('build_yr')['build_size_sf'].median().tail(20)"
      ],
      "metadata": {
        "colab": {
          "base_uri": "https://localhost:8080/"
        },
        "id": "rtipxYa-Ui-P",
        "outputId": "e85ffa1f-2296-4409-c147-d791bbde2c18"
      },
      "execution_count": null,
      "outputs": [
        {
          "output_type": "execute_result",
          "data": {
            "text/plain": [
              "build_yr\n",
              "2,002.00               1,957.00\n",
              "2,003.00               2,270.00\n",
              "2,004.00               2,303.50\n",
              "2,005.00               2,436.00\n",
              "2,006.00               2,181.00\n",
              "2,007.00               2,483.50\n",
              "2,008.00               2,018.00\n",
              "2,009.00               1,759.50\n",
              "2,010.00               2,333.00\n",
              "2,011.00               2,174.00\n",
              "2,012.00               2,213.50\n",
              "2,013.00               2,125.00\n",
              "2,014.00               2,035.00\n",
              "2,015.00               2,088.00\n",
              "2,016.00               2,088.00\n",
              "2,017.00               1,916.00\n",
              "2,018.00               2,122.00\n",
              "2,019.00               2,010.00\n",
              "2,020.00               1,939.00\n",
              "2,021.00               1,941.00\n",
              "Name: build_size_sf, dtype: float64"
            ]
          },
          "metadata": {},
          "execution_count": 18
        }
      ]
    },
    {
      "cell_type": "markdown",
      "source": [
        "We can see much less noisy data with this set, so let's save it to a variable and explore further."
      ],
      "metadata": {
        "id": "Cf2YrY6JjlDd"
      }
    },
    {
      "cell_type": "code",
      "source": [
        "# past20_df is where build_yr is greater than or equal to 2002\n",
        "past20_df = df[df.build_yr >= 2002]\n",
        "past20_df.shape"
      ],
      "metadata": {
        "colab": {
          "base_uri": "https://localhost:8080/"
        },
        "id": "Vud7Okc3YHIT",
        "outputId": "ff8c0164-5061-4332-9985-7caaa4e13137"
      },
      "execution_count": null,
      "outputs": [
        {
          "output_type": "execute_result",
          "data": {
            "text/plain": [
              "(2484, 15)"
            ]
          },
          "metadata": {},
          "execution_count": 19
        }
      ]
    },
    {
      "cell_type": "code",
      "source": [
        "past20_df.head()"
      ],
      "metadata": {
        "colab": {
          "base_uri": "https://localhost:8080/",
          "height": 206
        },
        "id": "Zub4YU27rTaf",
        "outputId": "115e40b4-ea12-439b-9ead-c0adc873938f"
      },
      "execution_count": null,
      "outputs": [
        {
          "output_type": "execute_result",
          "data": {
            "text/plain": [
              "   lot_size_sf     city   deed_date            price_usd   sale_date  \\\n",
              "0        25063  PHOENIX  04/24/2020           525,000.00  04/01/2020   \n",
              "1        20756  PHOENIX  11/14/2017           337,500.00  11/01/2017   \n",
              "2        20810  PHOENIX  04/03/2020           545,000.00  03/01/2020   \n",
              "3        20862  PHOENIX  07/16/2020           550,000.00  05/01/2020   \n",
              "5        18274  PHOENIX  12/28/2016           430,000.00  12/01/2016   \n",
              "\n",
              "                   lat                  lon             build_yr  \\\n",
              "0                33.35              -112.16             2,007.00   \n",
              "1                33.35              -112.16             2,007.00   \n",
              "2                33.35              -112.16             2,007.00   \n",
              "3                33.35              -112.16             2,007.00   \n",
              "5                33.35              -112.16             2,007.00   \n",
              "\n",
              "         build_size_sf             patio_ct    patio_type     wall_type  \\\n",
              "0             4,917.00                 2.00       Covered    Frame Wood   \n",
              "1             2,938.00                 2.00       Covered    Frame Wood   \n",
              "2             5,588.00                 2.00  Covered Slab    Frame Wood   \n",
              "3             3,849.00                 4.00  Covered Slab  Frame Stucco   \n",
              "5             5,588.00                 3.00  Covered Slab    Frame Wood   \n",
              "\n",
              "       roof_type     bath_fixtures_ct parking_type  \n",
              "0  Concrete Tile                13.00           GR  \n",
              "1  Concrete Tile                14.00           GR  \n",
              "2  Concrete Tile                14.00           GR  \n",
              "3  Concrete Tile                14.00           GR  \n",
              "5  Concrete Tile                14.00           GR  "
            ],
            "text/html": [
              "\n",
              "  <div id=\"df-2783088c-08bb-4027-bcc5-5c0ef262caa5\">\n",
              "    <div class=\"colab-df-container\">\n",
              "      <div>\n",
              "<style scoped>\n",
              "    .dataframe tbody tr th:only-of-type {\n",
              "        vertical-align: middle;\n",
              "    }\n",
              "\n",
              "    .dataframe tbody tr th {\n",
              "        vertical-align: top;\n",
              "    }\n",
              "\n",
              "    .dataframe thead th {\n",
              "        text-align: right;\n",
              "    }\n",
              "</style>\n",
              "<table border=\"1\" class=\"dataframe\">\n",
              "  <thead>\n",
              "    <tr style=\"text-align: right;\">\n",
              "      <th></th>\n",
              "      <th>lot_size_sf</th>\n",
              "      <th>city</th>\n",
              "      <th>deed_date</th>\n",
              "      <th>price_usd</th>\n",
              "      <th>sale_date</th>\n",
              "      <th>lat</th>\n",
              "      <th>lon</th>\n",
              "      <th>build_yr</th>\n",
              "      <th>build_size_sf</th>\n",
              "      <th>patio_ct</th>\n",
              "      <th>patio_type</th>\n",
              "      <th>wall_type</th>\n",
              "      <th>roof_type</th>\n",
              "      <th>bath_fixtures_ct</th>\n",
              "      <th>parking_type</th>\n",
              "    </tr>\n",
              "  </thead>\n",
              "  <tbody>\n",
              "    <tr>\n",
              "      <th>0</th>\n",
              "      <td>25063</td>\n",
              "      <td>PHOENIX</td>\n",
              "      <td>04/24/2020</td>\n",
              "      <td>525,000.00</td>\n",
              "      <td>04/01/2020</td>\n",
              "      <td>33.35</td>\n",
              "      <td>-112.16</td>\n",
              "      <td>2,007.00</td>\n",
              "      <td>4,917.00</td>\n",
              "      <td>2.00</td>\n",
              "      <td>Covered</td>\n",
              "      <td>Frame Wood</td>\n",
              "      <td>Concrete Tile</td>\n",
              "      <td>13.00</td>\n",
              "      <td>GR</td>\n",
              "    </tr>\n",
              "    <tr>\n",
              "      <th>1</th>\n",
              "      <td>20756</td>\n",
              "      <td>PHOENIX</td>\n",
              "      <td>11/14/2017</td>\n",
              "      <td>337,500.00</td>\n",
              "      <td>11/01/2017</td>\n",
              "      <td>33.35</td>\n",
              "      <td>-112.16</td>\n",
              "      <td>2,007.00</td>\n",
              "      <td>2,938.00</td>\n",
              "      <td>2.00</td>\n",
              "      <td>Covered</td>\n",
              "      <td>Frame Wood</td>\n",
              "      <td>Concrete Tile</td>\n",
              "      <td>14.00</td>\n",
              "      <td>GR</td>\n",
              "    </tr>\n",
              "    <tr>\n",
              "      <th>2</th>\n",
              "      <td>20810</td>\n",
              "      <td>PHOENIX</td>\n",
              "      <td>04/03/2020</td>\n",
              "      <td>545,000.00</td>\n",
              "      <td>03/01/2020</td>\n",
              "      <td>33.35</td>\n",
              "      <td>-112.16</td>\n",
              "      <td>2,007.00</td>\n",
              "      <td>5,588.00</td>\n",
              "      <td>2.00</td>\n",
              "      <td>Covered Slab</td>\n",
              "      <td>Frame Wood</td>\n",
              "      <td>Concrete Tile</td>\n",
              "      <td>14.00</td>\n",
              "      <td>GR</td>\n",
              "    </tr>\n",
              "    <tr>\n",
              "      <th>3</th>\n",
              "      <td>20862</td>\n",
              "      <td>PHOENIX</td>\n",
              "      <td>07/16/2020</td>\n",
              "      <td>550,000.00</td>\n",
              "      <td>05/01/2020</td>\n",
              "      <td>33.35</td>\n",
              "      <td>-112.16</td>\n",
              "      <td>2,007.00</td>\n",
              "      <td>3,849.00</td>\n",
              "      <td>4.00</td>\n",
              "      <td>Covered Slab</td>\n",
              "      <td>Frame Stucco</td>\n",
              "      <td>Concrete Tile</td>\n",
              "      <td>14.00</td>\n",
              "      <td>GR</td>\n",
              "    </tr>\n",
              "    <tr>\n",
              "      <th>5</th>\n",
              "      <td>18274</td>\n",
              "      <td>PHOENIX</td>\n",
              "      <td>12/28/2016</td>\n",
              "      <td>430,000.00</td>\n",
              "      <td>12/01/2016</td>\n",
              "      <td>33.35</td>\n",
              "      <td>-112.16</td>\n",
              "      <td>2,007.00</td>\n",
              "      <td>5,588.00</td>\n",
              "      <td>3.00</td>\n",
              "      <td>Covered Slab</td>\n",
              "      <td>Frame Wood</td>\n",
              "      <td>Concrete Tile</td>\n",
              "      <td>14.00</td>\n",
              "      <td>GR</td>\n",
              "    </tr>\n",
              "  </tbody>\n",
              "</table>\n",
              "</div>\n",
              "      <button class=\"colab-df-convert\" onclick=\"convertToInteractive('df-2783088c-08bb-4027-bcc5-5c0ef262caa5')\"\n",
              "              title=\"Convert this dataframe to an interactive table.\"\n",
              "              style=\"display:none;\">\n",
              "        \n",
              "  <svg xmlns=\"http://www.w3.org/2000/svg\" height=\"24px\"viewBox=\"0 0 24 24\"\n",
              "       width=\"24px\">\n",
              "    <path d=\"M0 0h24v24H0V0z\" fill=\"none\"/>\n",
              "    <path d=\"M18.56 5.44l.94 2.06.94-2.06 2.06-.94-2.06-.94-.94-2.06-.94 2.06-2.06.94zm-11 1L8.5 8.5l.94-2.06 2.06-.94-2.06-.94L8.5 2.5l-.94 2.06-2.06.94zm10 10l.94 2.06.94-2.06 2.06-.94-2.06-.94-.94-2.06-.94 2.06-2.06.94z\"/><path d=\"M17.41 7.96l-1.37-1.37c-.4-.4-.92-.59-1.43-.59-.52 0-1.04.2-1.43.59L10.3 9.45l-7.72 7.72c-.78.78-.78 2.05 0 2.83L4 21.41c.39.39.9.59 1.41.59.51 0 1.02-.2 1.41-.59l7.78-7.78 2.81-2.81c.8-.78.8-2.07 0-2.86zM5.41 20L4 18.59l7.72-7.72 1.47 1.35L5.41 20z\"/>\n",
              "  </svg>\n",
              "      </button>\n",
              "      \n",
              "  <style>\n",
              "    .colab-df-container {\n",
              "      display:flex;\n",
              "      flex-wrap:wrap;\n",
              "      gap: 12px;\n",
              "    }\n",
              "\n",
              "    .colab-df-convert {\n",
              "      background-color: #E8F0FE;\n",
              "      border: none;\n",
              "      border-radius: 50%;\n",
              "      cursor: pointer;\n",
              "      display: none;\n",
              "      fill: #1967D2;\n",
              "      height: 32px;\n",
              "      padding: 0 0 0 0;\n",
              "      width: 32px;\n",
              "    }\n",
              "\n",
              "    .colab-df-convert:hover {\n",
              "      background-color: #E2EBFA;\n",
              "      box-shadow: 0px 1px 2px rgba(60, 64, 67, 0.3), 0px 1px 3px 1px rgba(60, 64, 67, 0.15);\n",
              "      fill: #174EA6;\n",
              "    }\n",
              "\n",
              "    [theme=dark] .colab-df-convert {\n",
              "      background-color: #3B4455;\n",
              "      fill: #D2E3FC;\n",
              "    }\n",
              "\n",
              "    [theme=dark] .colab-df-convert:hover {\n",
              "      background-color: #434B5C;\n",
              "      box-shadow: 0px 1px 3px 1px rgba(0, 0, 0, 0.15);\n",
              "      filter: drop-shadow(0px 1px 2px rgba(0, 0, 0, 0.3));\n",
              "      fill: #FFFFFF;\n",
              "    }\n",
              "  </style>\n",
              "\n",
              "      <script>\n",
              "        const buttonEl =\n",
              "          document.querySelector('#df-2783088c-08bb-4027-bcc5-5c0ef262caa5 button.colab-df-convert');\n",
              "        buttonEl.style.display =\n",
              "          google.colab.kernel.accessAllowed ? 'block' : 'none';\n",
              "\n",
              "        async function convertToInteractive(key) {\n",
              "          const element = document.querySelector('#df-2783088c-08bb-4027-bcc5-5c0ef262caa5');\n",
              "          const dataTable =\n",
              "            await google.colab.kernel.invokeFunction('convertToInteractive',\n",
              "                                                     [key], {});\n",
              "          if (!dataTable) return;\n",
              "\n",
              "          const docLinkHtml = 'Like what you see? Visit the ' +\n",
              "            '<a target=\"_blank\" href=https://colab.research.google.com/notebooks/data_table.ipynb>data table notebook</a>'\n",
              "            + ' to learn more about interactive tables.';\n",
              "          element.innerHTML = '';\n",
              "          dataTable['output_type'] = 'display_data';\n",
              "          await google.colab.output.renderOutput(dataTable, element);\n",
              "          const docLink = document.createElement('div');\n",
              "          docLink.innerHTML = docLinkHtml;\n",
              "          element.appendChild(docLink);\n",
              "        }\n",
              "      </script>\n",
              "    </div>\n",
              "  </div>\n",
              "  "
            ]
          },
          "metadata": {},
          "execution_count": 20
        }
      ]
    },
    {
      "cell_type": "markdown",
      "source": [
        "The median build size for a residential home in `past20_df` is 2096 sq ft."
      ],
      "metadata": {
        "id": "EPUujR6aj6vw"
      }
    },
    {
      "cell_type": "code",
      "source": [
        "past20_df['build_size_sf'].median()"
      ],
      "metadata": {
        "colab": {
          "base_uri": "https://localhost:8080/"
        },
        "id": "xGLQU-7ycmWF",
        "outputId": "2eb0fdcc-c878-441b-f68f-957a96c19c46"
      },
      "execution_count": null,
      "outputs": [
        {
          "output_type": "execute_result",
          "data": {
            "text/plain": [
              "2096.0"
            ]
          },
          "metadata": {},
          "execution_count": 21
        }
      ]
    },
    {
      "cell_type": "markdown",
      "source": [
        "This is about 9% more than the overall median of `df` (all years since 1900)."
      ],
      "metadata": {
        "id": "chHwogo7kB_l"
      }
    },
    {
      "cell_type": "code",
      "source": [
        "past20_df['build_size_sf'].median()/df['build_size_sf'].median()"
      ],
      "metadata": {
        "colab": {
          "base_uri": "https://localhost:8080/"
        },
        "id": "kkBnFRTddZJQ",
        "outputId": "ce9bc2e1-852f-40e5-fc0b-4e9629bdc31f"
      },
      "execution_count": null,
      "outputs": [
        {
          "output_type": "execute_result",
          "data": {
            "text/plain": [
              "1.0905306971904267"
            ]
          },
          "metadata": {},
          "execution_count": 22
        }
      ]
    },
    {
      "cell_type": "markdown",
      "source": [
        "The median lot size for a residential home in `past20_df` is 6640 sq ft."
      ],
      "metadata": {
        "id": "5pKN30z3kKf4"
      }
    },
    {
      "cell_type": "code",
      "source": [
        "past20_df['lot_size_sf'].median()"
      ],
      "metadata": {
        "colab": {
          "base_uri": "https://localhost:8080/"
        },
        "id": "VfeLn_GTcKec",
        "outputId": "4439c119-9d5e-4461-970b-6525b82f1945"
      },
      "execution_count": null,
      "outputs": [
        {
          "output_type": "execute_result",
          "data": {
            "text/plain": [
              "6640.5"
            ]
          },
          "metadata": {},
          "execution_count": 23
        }
      ]
    },
    {
      "cell_type": "markdown",
      "source": [
        "This is about 5% smaller than the overall median of `df` (all years since 1900)."
      ],
      "metadata": {
        "id": "lapuBBpRkQL_"
      }
    },
    {
      "cell_type": "code",
      "source": [
        "past20_df['lot_size_sf'].median()/df['lot_size_sf'].median()"
      ],
      "metadata": {
        "colab": {
          "base_uri": "https://localhost:8080/"
        },
        "id": "0uSccNe9dLoI",
        "outputId": "2dced5cb-d995-4092-9d38-3d3550a19ec3"
      },
      "execution_count": null,
      "outputs": [
        {
          "output_type": "execute_result",
          "data": {
            "text/plain": [
              "0.9474247396204879"
            ]
          },
          "metadata": {},
          "execution_count": 24
        }
      ]
    },
    {
      "cell_type": "markdown",
      "source": [
        "Based on this, there is a change from the entire dataset compared to the last 20 years. Going forward we will continue to explore only `past20_df`."
      ],
      "metadata": {
        "id": "9HlnT8HWl8US"
      }
    },
    {
      "cell_type": "markdown",
      "source": [
        "The `build_size_sf`-to-`lot_size_sf` ratio of `past20_df` is about 32%. This means we want our floor plans to be roughtly 1/3 of the square footage of the lot."
      ],
      "metadata": {
        "id": "g0Q6x0CpkYVn"
      }
    },
    {
      "cell_type": "code",
      "source": [
        "past20_df['build_size_sf'].median()/past20_df['lot_size_sf'].median()"
      ],
      "metadata": {
        "colab": {
          "base_uri": "https://localhost:8080/"
        },
        "id": "QhN-K4y1dmUj",
        "outputId": "d232a0b4-b94c-472e-94eb-0ce2f45c49d1"
      },
      "execution_count": null,
      "outputs": [
        {
          "output_type": "execute_result",
          "data": {
            "text/plain": [
              "0.315638882614261"
            ]
          },
          "metadata": {},
          "execution_count": 25
        }
      ]
    },
    {
      "cell_type": "markdown",
      "source": [
        "#### What are the most popular building materials in `past20_df`?"
      ],
      "metadata": {
        "id": "TrP6-LOtmQsr"
      }
    },
    {
      "cell_type": "markdown",
      "source": [
        "Again, we want to *just* focus on `past20_df` to make sure we are building homes that are desired in a modern market."
      ],
      "metadata": {
        "id": "CEIdIhf-mlVD"
      }
    },
    {
      "cell_type": "markdown",
      "source": [
        "##### Wall Type"
      ],
      "metadata": {
        "id": "i6g3KQJgoRAb"
      }
    },
    {
      "cell_type": "code",
      "source": [
        "past20_df['wall_type'].value_counts()"
      ],
      "metadata": {
        "colab": {
          "base_uri": "https://localhost:8080/"
        },
        "id": "iXv6BWKXffDf",
        "outputId": "56c4e74a-9df1-46eb-af0a-a900e6cfed96"
      },
      "execution_count": null,
      "outputs": [
        {
          "output_type": "execute_result",
          "data": {
            "text/plain": [
              "Frame Stucco        1319\n",
              "Frame Wood          1084\n",
              "8\" Stucco             57\n",
              "8\" Painted Block      18\n",
              "Other                  4\n",
              "Slump Block            1\n",
              "Brick                  1\n",
              "Name: wall_type, dtype: int64"
            ]
          },
          "metadata": {},
          "execution_count": 26
        }
      ]
    },
    {
      "cell_type": "markdown",
      "source": [
        "After doing some minor research, there isn't much difference between the `Frame Stucco` and `Frame Wood` in terms of construction. Both are built from wood, Stucco is just an exterior finish. Stucco can also be applied to block, so `8\" Stucco` and `8\" Painted Block` are also just masonry construction with different coverings.\n",
        "\n",
        "While they are similar construction, and the difference appears to only be cosmetic, a Wood Frame house with Stucco seems to be the significantly more popular option. This could be for many reasons (maybe cost, durability, repairability, etc) but we'd need further info from a Subject Matter Expert in contracting, construction, or supply chain to know more."
      ],
      "metadata": {
        "id": "lPr-4XlwncHn"
      }
    },
    {
      "cell_type": "markdown",
      "source": [
        "##### Roof Type"
      ],
      "metadata": {
        "id": "SEeGbwuSoTRa"
      }
    },
    {
      "cell_type": "code",
      "source": [
        "past20_df['roof_type'].value_counts()"
      ],
      "metadata": {
        "colab": {
          "base_uri": "https://localhost:8080/"
        },
        "id": "UN-dXyrPgsP5",
        "outputId": "3b55edbb-9b1d-4367-888f-38cd11bbeea5"
      },
      "execution_count": null,
      "outputs": [
        {
          "output_type": "execute_result",
          "data": {
            "text/plain": [
              "Concrete Tile       2253\n",
              "Built Up              93\n",
              "Metal                 49\n",
              "Asphalt Shingle       44\n",
              "Tile                  31\n",
              "Wood                  12\n",
              "Slate                  1\n",
              "Asbestos Shingle       1\n",
              "Name: roof_type, dtype: int64"
            ]
          },
          "metadata": {},
          "execution_count": 27
        }
      ]
    },
    {
      "cell_type": "markdown",
      "source": [
        "`Concrete Tile` seems to be the clear choice here. `Built Up` refers to a more commercial-style roof that you would typically see over \"big-box\" stores and warehouses. We see a significant drop of `Asphalt Shingle` homes being built in `past20_df`."
      ],
      "metadata": {
        "id": "nbspf0hnoVTD"
      }
    },
    {
      "cell_type": "markdown",
      "source": [
        "#### What other strong relationships exist in `past20_df`?"
      ],
      "metadata": {
        "id": "mWfVPmJYl2GS"
      }
    },
    {
      "cell_type": "code",
      "source": [
        "# Correlation Plot of past20_df\n",
        "plt.figure(figsize = (12, 12))\n",
        "sns.heatmap(past20_df.corr(),\n",
        "            linewidths=0.25,\n",
        "            square=True,\n",
        "            cmap='seismic',\n",
        "            linecolor='k',\n",
        "            annot=True);"
      ],
      "metadata": {
        "colab": {
          "base_uri": "https://localhost:8080/",
          "height": 687
        },
        "id": "u89Ty5TvYxPH",
        "outputId": "e8daa9cf-18f7-414f-b724-8cc06c8eef58"
      },
      "execution_count": null,
      "outputs": [
        {
          "output_type": "display_data",
          "data": {
            "text/plain": [
              "<Figure size 864x864 with 2 Axes>"
            ],
            "image/png": "[encoded data removed]"
          },
          "metadata": {
            "needs_background": "light"
          }
        }
      ]
    },
    {
      "cell_type": "markdown",
      "source": [
        "#### What about Parking?"
      ],
      "metadata": {
        "id": "8kwcOi0k7v-W"
      }
    },
    {
      "cell_type": "code",
      "source": [
        "past20_df['parking_type'].value_counts()"
      ],
      "metadata": {
        "colab": {
          "base_uri": "https://localhost:8080/"
        },
        "id": "LOSv3GNZ7ztv",
        "outputId": "50ae07a9-8cb0-4c24-eea8-08a654cc9b23"
      },
      "execution_count": null,
      "outputs": [
        {
          "output_type": "execute_result",
          "data": {
            "text/plain": [
              "GR    2482\n",
              "CP       2\n",
              "Name: parking_type, dtype: int64"
            ]
          },
          "metadata": {},
          "execution_count": 29
        }
      ]
    },
    {
      "cell_type": "markdown",
      "source": [
        "We recommend including Garages instead of Covered Parking."
      ],
      "metadata": {
        "id": "WzvD_9F87zi2"
      }
    },
    {
      "cell_type": "markdown",
      "source": [
        "### Train/Test Split"
      ],
      "metadata": {
        "id": "itRWIhXS6R0J"
      }
    },
    {
      "cell_type": "markdown",
      "source": [
        "This step allows us to save some unseen data for our model to be evaluated on later. This helps us set important metrics to compare improvements in models."
      ],
      "metadata": {
        "id": "FkYzfGJ_AX_I"
      }
    },
    {
      "cell_type": "code",
      "source": [
        "from sklearn.model_selection import train_test_split\n",
        "\n",
        "X = past20_df['build_size_sf'].values.reshape(-1,1)\n",
        "y = past20_df['price_usd']\n",
        "X_train, X_test, y_train, y_test = train_test_split(X, y, test_size=0.25, random_state=42)"
      ],
      "metadata": {
        "id": "GJF_3vMT6Va4"
      },
      "execution_count": null,
      "outputs": []
    },
    {
      "cell_type": "markdown",
      "source": [
        "## Modeling"
      ],
      "metadata": {
        "id": "r3c5qVqTpBDp"
      }
    },
    {
      "cell_type": "markdown",
      "source": [
        "### Baseline (Simple Linear Regression)\n",
        "**Build Size (Sq Ft) vs Price (USD)**"
      ],
      "metadata": {
        "id": "B4VuGr_dJy8c"
      }
    },
    {
      "cell_type": "markdown",
      "source": [
        "We will first build a baseline, simple linear regression model to establish some metrics. This will help us make a prediction for a potential price point for our stakeholder to enter the market."
      ],
      "metadata": {
        "id": "sBGNBXmqYgVV"
      }
    },
    {
      "cell_type": "code",
      "source": [
        "import numpy as np\n",
        "from sklearn.linear_model import LinearRegression\n",
        "from sklearn.metrics import mean_squared_error as mse\n",
        "\n",
        "Build_Size_Input = 2100\n",
        "\n",
        "reg = LinearRegression().fit(X_train, y_train)\n",
        "print(f'R-Square: {reg.score(X, y)}%')\n",
        "print(f'Prediction: ${reg.predict(np.array(Build_Size_Input).reshape(1, -1))[0]}')"
      ],
      "metadata": {
        "colab": {
          "base_uri": "https://localhost:8080/"
        },
        "id": "JfPcf3D1Arnp",
        "outputId": "75f13bdd-0108-4325-9869-717d44999343"
      },
      "execution_count": null,
      "outputs": [
        {
          "output_type": "stream",
          "name": "stdout",
          "text": [
            "R-Square: 0.42495839967488225%\n",
            "Prediction: $300868.7851222876\n"
          ]
        }
      ]
    },
    {
      "cell_type": "markdown",
      "source": [
        "#### Build Size Linear Regression Evaluation"
      ],
      "metadata": {
        "id": "mciiqnQV_78-"
      }
    },
    {
      "cell_type": "code",
      "source": [
        "import numpy as np\n",
        "from sklearn.linear_model import LinearRegression\n",
        "from sklearn.metrics import mean_squared_error as mse\n",
        "\n",
        "\n",
        "reg = LinearRegression().fit(X_train, y_train)\n",
        "print(f'R-Square: {reg.score(X, y)}%')\n",
        "y_pred = reg.predict(X_test)\n",
        "print(f'RMSE: ${mse(y_test, y_pred, squared = False)}')"
      ],
      "metadata": {
        "colab": {
          "base_uri": "https://localhost:8080/"
        },
        "id": "1ZPwQCE93EtD",
        "outputId": "f90981e2-b34d-4730-970d-8f5c2d909194"
      },
      "execution_count": null,
      "outputs": [
        {
          "output_type": "stream",
          "name": "stdout",
          "text": [
            "R-Square: 0.42495839967488225%\n",
            "RMSE: $331227.69294471765\n"
          ]
        }
      ]
    },
    {
      "cell_type": "markdown",
      "source": [
        "### Multiple Linear Regression"
      ],
      "metadata": {
        "id": "OmbKDEn3YgXc"
      }
    },
    {
      "cell_type": "markdown",
      "source": [
        "**Build Size (Sq Ft), Lot Size (Sq Ft) vs Price (USD)**"
      ],
      "metadata": {
        "id": "QWa737hUKAor"
      }
    },
    {
      "cell_type": "markdown",
      "source": [
        "We will try to include some other features to see if we can increase our R-Squared score and reduce our Root Mean-Square Error (RMSE)."
      ],
      "metadata": {
        "id": "YAkbi6Jf_hmK"
      }
    },
    {
      "cell_type": "code",
      "source": [
        "past20_df.head()"
      ],
      "metadata": {
        "colab": {
          "base_uri": "https://localhost:8080/",
          "height": 206
        },
        "id": "yaUkjX1E_Am0",
        "outputId": "a2d8eecc-2dc6-46f3-c021-3377007691eb"
      },
      "execution_count": null,
      "outputs": [
        {
          "output_type": "execute_result",
          "data": {
            "text/plain": [
              "   lot_size_sf     city   deed_date            price_usd   sale_date  \\\n",
              "0        25063  PHOENIX  04/24/2020           525,000.00  04/01/2020   \n",
              "1        20756  PHOENIX  11/14/2017           337,500.00  11/01/2017   \n",
              "2        20810  PHOENIX  04/03/2020           545,000.00  03/01/2020   \n",
              "3        20862  PHOENIX  07/16/2020           550,000.00  05/01/2020   \n",
              "5        18274  PHOENIX  12/28/2016           430,000.00  12/01/2016   \n",
              "\n",
              "                   lat                  lon             build_yr  \\\n",
              "0                33.35              -112.16             2,007.00   \n",
              "1                33.35              -112.16             2,007.00   \n",
              "2                33.35              -112.16             2,007.00   \n",
              "3                33.35              -112.16             2,007.00   \n",
              "5                33.35              -112.16             2,007.00   \n",
              "\n",
              "         build_size_sf             patio_ct    patio_type     wall_type  \\\n",
              "0             4,917.00                 2.00       Covered    Frame Wood   \n",
              "1             2,938.00                 2.00       Covered    Frame Wood   \n",
              "2             5,588.00                 2.00  Covered Slab    Frame Wood   \n",
              "3             3,849.00                 4.00  Covered Slab  Frame Stucco   \n",
              "5             5,588.00                 3.00  Covered Slab    Frame Wood   \n",
              "\n",
              "       roof_type     bath_fixtures_ct parking_type  \n",
              "0  Concrete Tile                13.00           GR  \n",
              "1  Concrete Tile                14.00           GR  \n",
              "2  Concrete Tile                14.00           GR  \n",
              "3  Concrete Tile                14.00           GR  \n",
              "5  Concrete Tile                14.00           GR  "
            ],
            "text/html": [
              "\n",
              "  <div id=\"df-8ec5b951-9bc1-42ec-9f4b-303d711bacf1\">\n",
              "    <div class=\"colab-df-container\">\n",
              "      <div>\n",
              "<style scoped>\n",
              "    .dataframe tbody tr th:only-of-type {\n",
              "        vertical-align: middle;\n",
              "    }\n",
              "\n",
              "    .dataframe tbody tr th {\n",
              "        vertical-align: top;\n",
              "    }\n",
              "\n",
              "    .dataframe thead th {\n",
              "        text-align: right;\n",
              "    }\n",
              "</style>\n",
              "<table border=\"1\" class=\"dataframe\">\n",
              "  <thead>\n",
              "    <tr style=\"text-align: right;\">\n",
              "      <th></th>\n",
              "      <th>lot_size_sf</th>\n",
              "      <th>city</th>\n",
              "      <th>deed_date</th>\n",
              "      <th>price_usd</th>\n",
              "      <th>sale_date</th>\n",
              "      <th>lat</th>\n",
              "      <th>lon</th>\n",
              "      <th>build_yr</th>\n",
              "      <th>build_size_sf</th>\n",
              "      <th>patio_ct</th>\n",
              "      <th>patio_type</th>\n",
              "      <th>wall_type</th>\n",
              "      <th>roof_type</th>\n",
              "      <th>bath_fixtures_ct</th>\n",
              "      <th>parking_type</th>\n",
              "    </tr>\n",
              "  </thead>\n",
              "  <tbody>\n",
              "    <tr>\n",
              "      <th>0</th>\n",
              "      <td>25063</td>\n",
              "      <td>PHOENIX</td>\n",
              "      <td>04/24/2020</td>\n",
              "      <td>525,000.00</td>\n",
              "      <td>04/01/2020</td>\n",
              "      <td>33.35</td>\n",
              "      <td>-112.16</td>\n",
              "      <td>2,007.00</td>\n",
              "      <td>4,917.00</td>\n",
              "      <td>2.00</td>\n",
              "      <td>Covered</td>\n",
              "      <td>Frame Wood</td>\n",
              "      <td>Concrete Tile</td>\n",
              "      <td>13.00</td>\n",
              "      <td>GR</td>\n",
              "    </tr>\n",
              "    <tr>\n",
              "      <th>1</th>\n",
              "      <td>20756</td>\n",
              "      <td>PHOENIX</td>\n",
              "      <td>11/14/2017</td>\n",
              "      <td>337,500.00</td>\n",
              "      <td>11/01/2017</td>\n",
              "      <td>33.35</td>\n",
              "      <td>-112.16</td>\n",
              "      <td>2,007.00</td>\n",
              "      <td>2,938.00</td>\n",
              "      <td>2.00</td>\n",
              "      <td>Covered</td>\n",
              "      <td>Frame Wood</td>\n",
              "      <td>Concrete Tile</td>\n",
              "      <td>14.00</td>\n",
              "      <td>GR</td>\n",
              "    </tr>\n",
              "    <tr>\n",
              "      <th>2</th>\n",
              "      <td>20810</td>\n",
              "      <td>PHOENIX</td>\n",
              "      <td>04/03/2020</td>\n",
              "      <td>545,000.00</td>\n",
              "      <td>03/01/2020</td>\n",
              "      <td>33.35</td>\n",
              "      <td>-112.16</td>\n",
              "      <td>2,007.00</td>\n",
              "      <td>5,588.00</td>\n",
              "      <td>2.00</td>\n",
              "      <td>Covered Slab</td>\n",
              "      <td>Frame Wood</td>\n",
              "      <td>Concrete Tile</td>\n",
              "      <td>14.00</td>\n",
              "      <td>GR</td>\n",
              "    </tr>\n",
              "    <tr>\n",
              "      <th>3</th>\n",
              "      <td>20862</td>\n",
              "      <td>PHOENIX</td>\n",
              "      <td>07/16/2020</td>\n",
              "      <td>550,000.00</td>\n",
              "      <td>05/01/2020</td>\n",
              "      <td>33.35</td>\n",
              "      <td>-112.16</td>\n",
              "      <td>2,007.00</td>\n",
              "      <td>3,849.00</td>\n",
              "      <td>4.00</td>\n",
              "      <td>Covered Slab</td>\n",
              "      <td>Frame Stucco</td>\n",
              "      <td>Concrete Tile</td>\n",
              "      <td>14.00</td>\n",
              "      <td>GR</td>\n",
              "    </tr>\n",
              "    <tr>\n",
              "      <th>5</th>\n",
              "      <td>18274</td>\n",
              "      <td>PHOENIX</td>\n",
              "      <td>12/28/2016</td>\n",
              "      <td>430,000.00</td>\n",
              "      <td>12/01/2016</td>\n",
              "      <td>33.35</td>\n",
              "      <td>-112.16</td>\n",
              "      <td>2,007.00</td>\n",
              "      <td>5,588.00</td>\n",
              "      <td>3.00</td>\n",
              "      <td>Covered Slab</td>\n",
              "      <td>Frame Wood</td>\n",
              "      <td>Concrete Tile</td>\n",
              "      <td>14.00</td>\n",
              "      <td>GR</td>\n",
              "    </tr>\n",
              "  </tbody>\n",
              "</table>\n",
              "</div>\n",
              "      <button class=\"colab-df-convert\" onclick=\"convertToInteractive('df-8ec5b951-9bc1-42ec-9f4b-303d711bacf1')\"\n",
              "              title=\"Convert this dataframe to an interactive table.\"\n",
              "              style=\"display:none;\">\n",
              "        \n",
              "  <svg xmlns=\"http://www.w3.org/2000/svg\" height=\"24px\"viewBox=\"0 0 24 24\"\n",
              "       width=\"24px\">\n",
              "    <path d=\"M0 0h24v24H0V0z\" fill=\"none\"/>\n",
              "    <path d=\"M18.56 5.44l.94 2.06.94-2.06 2.06-.94-2.06-.94-.94-2.06-.94 2.06-2.06.94zm-11 1L8.5 8.5l.94-2.06 2.06-.94-2.06-.94L8.5 2.5l-.94 2.06-2.06.94zm10 10l.94 2.06.94-2.06 2.06-.94-2.06-.94-.94-2.06-.94 2.06-2.06.94z\"/><path d=\"M17.41 7.96l-1.37-1.37c-.4-.4-.92-.59-1.43-.59-.52 0-1.04.2-1.43.59L10.3 9.45l-7.72 7.72c-.78.78-.78 2.05 0 2.83L4 21.41c.39.39.9.59 1.41.59.51 0 1.02-.2 1.41-.59l7.78-7.78 2.81-2.81c.8-.78.8-2.07 0-2.86zM5.41 20L4 18.59l7.72-7.72 1.47 1.35L5.41 20z\"/>\n",
              "  </svg>\n",
              "      </button>\n",
              "      \n",
              "  <style>\n",
              "    .colab-df-container {\n",
              "      display:flex;\n",
              "      flex-wrap:wrap;\n",
              "      gap: 12px;\n",
              "    }\n",
              "\n",
              "    .colab-df-convert {\n",
              "      background-color: #E8F0FE;\n",
              "      border: none;\n",
              "      border-radius: 50%;\n",
              "      cursor: pointer;\n",
              "      display: none;\n",
              "      fill: #1967D2;\n",
              "      height: 32px;\n",
              "      padding: 0 0 0 0;\n",
              "      width: 32px;\n",
              "    }\n",
              "\n",
              "    .colab-df-convert:hover {\n",
              "      background-color: #E2EBFA;\n",
              "      box-shadow: 0px 1px 2px rgba(60, 64, 67, 0.3), 0px 1px 3px 1px rgba(60, 64, 67, 0.15);\n",
              "      fill: #174EA6;\n",
              "    }\n",
              "\n",
              "    [theme=dark] .colab-df-convert {\n",
              "      background-color: #3B4455;\n",
              "      fill: #D2E3FC;\n",
              "    }\n",
              "\n",
              "    [theme=dark] .colab-df-convert:hover {\n",
              "      background-color: #434B5C;\n",
              "      box-shadow: 0px 1px 3px 1px rgba(0, 0, 0, 0.15);\n",
              "      filter: drop-shadow(0px 1px 2px rgba(0, 0, 0, 0.3));\n",
              "      fill: #FFFFFF;\n",
              "    }\n",
              "  </style>\n",
              "\n",
              "      <script>\n",
              "        const buttonEl =\n",
              "          document.querySelector('#df-8ec5b951-9bc1-42ec-9f4b-303d711bacf1 button.colab-df-convert');\n",
              "        buttonEl.style.display =\n",
              "          google.colab.kernel.accessAllowed ? 'block' : 'none';\n",
              "\n",
              "        async function convertToInteractive(key) {\n",
              "          const element = document.querySelector('#df-8ec5b951-9bc1-42ec-9f4b-303d711bacf1');\n",
              "          const dataTable =\n",
              "            await google.colab.kernel.invokeFunction('convertToInteractive',\n",
              "                                                     [key], {});\n",
              "          if (!dataTable) return;\n",
              "\n",
              "          const docLinkHtml = 'Like what you see? Visit the ' +\n",
              "            '<a target=\"_blank\" href=https://colab.research.google.com/notebooks/data_table.ipynb>data table notebook</a>'\n",
              "            + ' to learn more about interactive tables.';\n",
              "          element.innerHTML = '';\n",
              "          dataTable['output_type'] = 'display_data';\n",
              "          await google.colab.output.renderOutput(dataTable, element);\n",
              "          const docLink = document.createElement('div');\n",
              "          docLink.innerHTML = docLinkHtml;\n",
              "          element.appendChild(docLink);\n",
              "        }\n",
              "      </script>\n",
              "    </div>\n",
              "  </div>\n",
              "  "
            ]
          },
          "metadata": {},
          "execution_count": 33
        }
      ]
    },
    {
      "cell_type": "code",
      "source": [
        "from sklearn.model_selection import train_test_split\n",
        "\n",
        "Xm = past20_df[['build_size_sf', 'lot_size_sf']]#.values.reshape(-1,1)\n",
        "ym = past20_df['price_usd']\n",
        "Xm_train, Xm_test, ym_train, ym_test = train_test_split(Xm, ym, test_size=0.25, random_state=42)"
      ],
      "metadata": {
        "id": "eaLak3kl-c_l"
      },
      "execution_count": null,
      "outputs": []
    },
    {
      "cell_type": "markdown",
      "source": [
        "#### Multiple Linear Regression Evaluation"
      ],
      "metadata": {
        "id": "wUz45N5z_6Pj"
      }
    },
    {
      "cell_type": "code",
      "source": [
        "reg = LinearRegression().fit(Xm_train, ym_train)\n",
        "print(f'R-Square: {reg.score(Xm, ym)}%')\n",
        "ym_pred = reg.predict(Xm_test)\n",
        "print(f'RMSE: ${mse(ym_test, ym_pred, squared = False)}')"
      ],
      "metadata": {
        "colab": {
          "base_uri": "https://localhost:8080/"
        },
        "id": "2e-m9isK-hEZ",
        "outputId": "292682f9-2d31-4e39-99f3-de829ddbcb51"
      },
      "execution_count": null,
      "outputs": [
        {
          "output_type": "stream",
          "name": "stdout",
          "text": [
            "R-Square: 0.4532762024809369%\n",
            "RMSE: $395899.11825819436\n"
          ]
        }
      ]
    },
    {
      "cell_type": "markdown",
      "source": [
        "It looks like this increased our R-Square, but also increased our RMSE. This likely means there is multicolinearity. There are various things we could do about that are beyond the scope of this iteration, but could be explored further in future steps. For now, We will use our basic linear model to make preliminary price suggestions and return to our stakeholders with our findings to determine next steps."
      ],
      "metadata": {
        "id": "DgBD2qu3YgbM"
      }
    },
    {
      "cell_type": "markdown",
      "source": [
        "## Conclusions"
      ],
      "metadata": {
        "id": "wE0FHgE8BqsF"
      }
    },
    {
      "cell_type": "markdown",
      "source": [
        "### Home Characteristics"
      ],
      "metadata": {
        "id": "1QWd7EuNG8iL"
      }
    },
    {
      "cell_type": "markdown",
      "source": [
        "Based on preliminary analysis of the data, we recommend building homes with the following features: \n",
        " - ~2100 sq ft build size\n",
        " - ~6700 sq ft lot size\n",
        " - Attached Garage\n",
        " - Frame Stucco Wall Type\n",
        " - Concrete Tile Roof Type"
      ],
      "metadata": {
        "id": "-Q2aL6zCBuVz"
      }
    },
    {
      "cell_type": "markdown",
      "source": [
        "### Price Recommendations"
      ],
      "metadata": {
        "id": "aLXM5i1JG7Yx"
      }
    },
    {
      "cell_type": "markdown",
      "source": [
        "After comparing the metrics between our two models, we will revert back to Simple Linear Regression."
      ],
      "metadata": {
        "id": "COfsAD8MxWUZ"
      }
    },
    {
      "cell_type": "code",
      "source": [
        "Build_Size_Input = 2100\n",
        "\n",
        "reg = LinearRegression().fit(X_train, y_train)\n",
        "print(f'R-Square: {reg.score(X, y)}%')\n",
        "print(f'Prediction: ${reg.predict(np.array(Build_Size_Input).reshape(1, -1))[0]}')"
      ],
      "metadata": {
        "colab": {
          "base_uri": "https://localhost:8080/"
        },
        "id": "whn1kKtnxVKR",
        "outputId": "2a42439b-3741-4b2e-dd94-9b62d5b6c65f"
      },
      "execution_count": null,
      "outputs": [
        {
          "output_type": "stream",
          "name": "stdout",
          "text": [
            "R-Square: 0.42495839967488225%\n",
            "Prediction: $300868.7851222876\n"
          ]
        }
      ]
    },
    {
      "cell_type": "code",
      "source": [
        "# Given the Median approximate square footage of 2100\n",
        "# We are looking at a home 10% smaller and larger and recommending a price\n",
        "Build_Size_Input_s = 2100*0.9\n",
        "Build_Size_Input_m = 2100\n",
        "Build_Size_Input_l = 2100*1.1\n",
        "\n",
        "print(f'Price Prediction (Small): {Build_Size_Input_s} sq ft, ${reg.predict(np.array(Build_Size_Input_s).reshape(1, -1))[0]}')\n",
        "print(f'Price Prediction (Medium): {Build_Size_Input_m} sq ft, ${reg.predict(np.array(Build_Size_Input_m).reshape(1, -1))[0]}')\n",
        "print(f'Price Prediction (Large): {Build_Size_Input_l} sq ft, ${reg.predict(np.array(Build_Size_Input_l).reshape(1, -1))[0]}')"
      ],
      "metadata": {
        "colab": {
          "base_uri": "https://localhost:8080/"
        },
        "id": "QqSw4QefGfBX",
        "outputId": "301b4a45-78bb-4748-e42c-d63ca262f5d7"
      },
      "execution_count": null,
      "outputs": [
        {
          "output_type": "stream",
          "name": "stdout",
          "text": [
            "Price Prediction (Small): 1890.0 sq ft, $209635.60666325397\n",
            "Price Prediction (Medium): 2100 sq ft, $300868.7851222876\n",
            "Price Prediction (Large): 2310.0 sq ft, $392101.96358132106\n"
          ]
        }
      ]
    },
    {
      "cell_type": "markdown",
      "source": [
        "Based on a poorly performing preliminary model, we would recommend pricing homes as follows:\n",
        " * approx `1,890 sq ft`, `$210k`\n",
        " * approx `2,100 sq ft`, `$300k`\n",
        " * approx `2,310 sq ft`, `$390k`"
      ],
      "metadata": {
        "id": "fV6NpwjYF-tV"
      }
    },
    {
      "cell_type": "markdown",
      "source": [
        "### Limitations"
      ],
      "metadata": {
        "id": "Qc3Kl-8CIF8i"
      }
    },
    {
      "cell_type": "markdown",
      "source": [
        "Due to the poor performance of the initial modeling, we recommend proceeding with Next Steps before committing to any purchasing decisions. Additionally, many factors could change depending on the location of the lot(s) purchased for development."
      ],
      "metadata": {
        "id": "k8pyTl0QIHYb"
      }
    },
    {
      "cell_type": "markdown",
      "source": [
        "## Next Steps"
      ],
      "metadata": {
        "id": "MCCpwRiNIg2b"
      }
    },
    {
      "cell_type": "markdown",
      "source": [
        " * Gather additional samples randomly\n",
        " * Include a greater number of features for each home\n",
        " * Gather data on a more frequent basis to capture trends over time\n",
        " * Meet with a Supply Chain SME to get a better idea of costs\n",
        " * Run this analysis on several candidate development lots"
      ],
      "metadata": {
        "id": "yCtIpkjdIinP"
      }
    }
  ]
}